{
  "nbformat": 4,
  "nbformat_minor": 0,
  "metadata": {
    "colab": {
      "provenance": [],
      "authorship_tag": "ABX9TyM7m5oNzIOXXA3RjfSdUiyP",
      "include_colab_link": true
    },
    "kernelspec": {
      "name": "python3",
      "display_name": "Python 3"
    },
    "language_info": {
      "name": "python"
    }
  },
  "cells": [
    {
      "cell_type": "markdown",
      "metadata": {
        "id": "view-in-github",
        "colab_type": "text"
      },
      "source": [
        "<a href=\"https://colab.research.google.com/github/SoumyaAnagoni/Sithafal_Technologies_Task1/blob/main/Sithafal.ipynb\" target=\"_parent\"><img src=\"https://colab.research.google.com/assets/colab-badge.svg\" alt=\"Open In Colab\"/></a>"
      ]
    },
    {
      "cell_type": "code",
      "source": [
        "!pip install --upgrade pymupdf # Install/upgrade PyMuPDF, which includes fitz and its dependencies.\n",
        "!pip install pdfplumber\n",
        "!mkdir static\n",
        "import fitz\n",
        "import pdfplumber\n",
        "import os\n",
        "\n",
        "def extract_text_and_tables(pdf_path, page_number):\n",
        "    with pdfplumber.open(pdf_path) as pdf:\n",
        "        if page_number < 0 or page_number >= len(pdf.pages):\n",
        "            return None, None\n",
        "        page = pdf.pages[page_number]\n",
        "        text = page.extract_text()\n",
        "        tables = page.extract_tables()\n",
        "        return text, tables\n",
        "\n",
        "def extract_images(pdf_path, page_number, image_output_dir):\n",
        "    if not os.path.exists(image_output_dir):\n",
        "        os.makedirs(image_output_dir)\n",
        "    images = []\n",
        "    with fitz.open(pdf_path) as pdf:\n",
        "        if page_number < 0 or page_number >= len(pdf):\n",
        "            return None\n",
        "        page = pdf[page_number]\n",
        "        image_list = page.get_images(full=True)\n",
        "        for img_index, img in enumerate(image_list):\n",
        "            xref = img[0]\n",
        "            base_image = pdf.extract_image(xref)\n",
        "            image_bytes = base_image[\"image\"]\n",
        "            image_filename = os.path.join(image_output_dir, f\"page_{page_number+1}_img{img_index + 1}.png\")\n",
        "            with open(image_filename, \"wb\") as img_file:\n",
        "                img_file.write(image_bytes)\n",
        "            images.append(image_filename)\n",
        "    return images\n",
        "\n",
        "def handle_query(user_query, pdf_path, image_output_dir):\n",
        "    response = \"\"\n",
        "    page_numbers = []\n",
        "    try:\n",
        "        for part in user_query.split(\"page\")[1:]:\n",
        "            page_number = int(part.split()[0]) - 1\n",
        "            page_numbers.append(page_number)\n",
        "    except (IndexError, ValueError):\n",
        "        return \"Invalid query format. Please specify valid page numbers.\"\n",
        "    for page_number in page_numbers:\n",
        "        page_text, tables = extract_text_and_tables(pdf_path, page_number)\n",
        "        if page_text is None:\n",
        "            response += f\"The specified page {page_number + 1} does not exist in the PDF.\\n\"\n",
        "            continue\n",
        "        response += f\"Data from page {page_number+ 1}:\\n\"\n",
        "        response += f\"Text:\\n{page_text}\\n\"\n",
        "        if tables:\n",
        "            response += \"Tables found on this page:\\n\"\n",
        "            for i, table in enumerate(tables):\n",
        "                response += f\"\\nTable {i + 1}:\\n\"\n",
        "                for row in table:\n",
        "                    response += \" | \".join(str(cell) for cell in row) + \"\\n\"\n",
        "        else:\n",
        "            response += \"No tables found on this page.\\n\"\n",
        "        images = extract_images(pdf_path, page_number, image_output_dir)\n",
        "        if images:\n",
        "            response += \"Images extracted from this page:\\n\"\n",
        "            for img in images:\n",
        "                response += f\" {img}\\n\"\n",
        "        else:\n",
        "            response += \"No images found on this page.\\n\"\n",
        "    return response\n",
        "\n",
        "\n",
        "if __name__ == \"__main__\":  # Corrected the variable name to __name_\n",
        "    pdf_path = \"/content/sitafal/sithafal file.pdf\"\n",
        "    image_output_dir = \"/content/output\"\n",
        "    user_query = input(\"Enter your query: \")\n",
        "    response = handle_query(user_query, pdf_path, image_output_dir)\n",
        "    print(response)"
      ],
      "metadata": {
        "colab": {
          "base_uri": "https://localhost:8080/"
        },
        "id": "FrgpfSDU4E-x",
        "outputId": "fdc257d6-2713-4bc5-c52e-0fe19a7a3e4a"
      },
      "execution_count": null,
      "outputs": [
        {
          "output_type": "stream",
          "name": "stdout",
          "text": [
            "Requirement already satisfied: pymupdf in /usr/local/lib/python3.10/dist-packages (1.25.1)\n",
            "Requirement already satisfied: pdfplumber in /usr/local/lib/python3.10/dist-packages (0.11.4)\n",
            "Requirement already satisfied: pdfminer.six==20231228 in /usr/local/lib/python3.10/dist-packages (from pdfplumber) (20231228)\n",
            "Requirement already satisfied: Pillow>=9.1 in /usr/local/lib/python3.10/dist-packages (from pdfplumber) (11.0.0)\n",
            "Requirement already satisfied: pypdfium2>=4.18.0 in /usr/local/lib/python3.10/dist-packages (from pdfplumber) (4.30.1)\n",
            "Requirement already satisfied: charset-normalizer>=2.0.0 in /usr/local/lib/python3.10/dist-packages (from pdfminer.six==20231228->pdfplumber) (3.4.0)\n",
            "Requirement already satisfied: cryptography>=36.0.0 in /usr/local/lib/python3.10/dist-packages (from pdfminer.six==20231228->pdfplumber) (43.0.3)\n",
            "Requirement already satisfied: cffi>=1.12 in /usr/local/lib/python3.10/dist-packages (from cryptography>=36.0.0->pdfminer.six==20231228->pdfplumber) (1.17.1)\n",
            "Requirement already satisfied: pycparser in /usr/local/lib/python3.10/dist-packages (from cffi>=1.12->cryptography>=36.0.0->pdfminer.six==20231228->pdfplumber) (2.22)\n",
            "mkdir: cannot create directory ‘static’: File exists\n",
            "Enter your query: page 8\n",
            "Data from page 8:\n",
            "Text:\n",
            " Pie charts can be misleading when the slices do not\n",
            "correspond with the percent contribution to the whole pie.\n",
            " Notice the pie chart below is not very intuitive.\n",
            "No tables found on this page.\n",
            "Images extracted from this page:\n",
            " /content/output/page_8_img1.png\n",
            "\n"
          ]
        }
      ]
    }
  ]
}